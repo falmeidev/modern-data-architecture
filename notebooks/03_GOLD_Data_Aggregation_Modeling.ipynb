{
 "cells": [
  {
   "cell_type": "markdown",
   "metadata": {
    "application/vnd.databricks.v1+cell": {
     "cellMetadata": {
      "byteLimit": 2048000,
      "rowLimit": 10000
     },
     "inputWidgets": {},
     "nuid": "cc047643-95b6-406e-8fa5-e08b431ce4e5",
     "showTitle": false,
     "tableResultSettingsMap": {},
     "title": ""
    }
   },
   "source": [
    "# Modeling Data and saving in the GOLD layer"
   ]
  },
  {
   "cell_type": "markdown",
   "metadata": {
    "application/vnd.databricks.v1+cell": {
     "cellMetadata": {
      "byteLimit": 2048000,
      "rowLimit": 10000
     },
     "inputWidgets": {},
     "nuid": "3e001d26-906d-406d-aaf5-8e45d0a31e76",
     "showTitle": false,
     "tableResultSettingsMap": {},
     "title": ""
    }
   },
   "source": [
    "## Creation of dim_company"
   ]
  },
  {
   "cell_type": "code",
   "execution_count": 0,
   "metadata": {
    "application/vnd.databricks.v1+cell": {
     "cellMetadata": {
      "byteLimit": 2048000,
      "implicitDf": true,
      "rowLimit": 10000
     },
     "inputWidgets": {},
     "nuid": "b93194d8-187c-4638-aac3-81e062dc9bf6",
     "showTitle": false,
     "tableResultSettingsMap": {},
     "title": ""
    }
   },
   "outputs": [],
   "source": [
    "%sql\n",
    "CREATE OR REPLACE TABLE gold.marketing.dim_company AS\n",
    "SELECT \n",
    "    ROW_NUMBER() OVER (ORDER BY Company) AS company_id,  -- Unique ID for each company\n",
    "    Company AS company_name,\n",
    "    Customer_Segment\n",
    "FROM silver.marketing.marketing_data;"
   ]
  },
  {
   "cell_type": "markdown",
   "metadata": {
    "application/vnd.databricks.v1+cell": {
     "cellMetadata": {
      "byteLimit": 2048000,
      "rowLimit": 10000
     },
     "inputWidgets": {},
     "nuid": "6dda19e0-97cf-41e8-8f38-d8499c822cab",
     "showTitle": false,
     "tableResultSettingsMap": {},
     "title": ""
    }
   },
   "source": [
    "## Creation of dim_campaign"
   ]
  },
  {
   "cell_type": "code",
   "execution_count": 0,
   "metadata": {
    "application/vnd.databricks.v1+cell": {
     "cellMetadata": {
      "byteLimit": 2048000,
      "implicitDf": true,
      "rowLimit": 10000
     },
     "inputWidgets": {},
     "nuid": "abb07716-6fe3-40c1-b7dc-22c792009fbf",
     "showTitle": false,
     "tableResultSettingsMap": {},
     "title": ""
    }
   },
   "outputs": [],
   "source": [
    "%sql\n",
    "CREATE OR REPLACE TABLE gold.marketing.dim_campaign AS\n",
    "SELECT \n",
    "    Campaign_ID AS campaign_key,  -- Original Campaign ID as primary identifier\n",
    "    ROW_NUMBER() OVER (ORDER BY Campaign_ID) AS campaign_id,  -- Surrogate ID\n",
    "    Campaign_Type,\n",
    "    Target_Audience,\n",
    "    Duration,\n",
    "    Campaign_Efficiency\n",
    "FROM silver.marketing.marketing_data;"
   ]
  },
  {
   "cell_type": "markdown",
   "metadata": {
    "application/vnd.databricks.v1+cell": {
     "cellMetadata": {
      "byteLimit": 2048000,
      "rowLimit": 10000
     },
     "inputWidgets": {},
     "nuid": "25c72c73-f861-41ea-b679-2cc061f694a2",
     "showTitle": false,
     "tableResultSettingsMap": {},
     "title": ""
    }
   },
   "source": [
    "## Creation of dim_channel"
   ]
  },
  {
   "cell_type": "code",
   "execution_count": 0,
   "metadata": {
    "application/vnd.databricks.v1+cell": {
     "cellMetadata": {
      "byteLimit": 2048000,
      "implicitDf": true,
      "rowLimit": 10000
     },
     "inputWidgets": {},
     "nuid": "3922545b-59cf-4831-a29e-1a1d8b97b851",
     "showTitle": false,
     "tableResultSettingsMap": {},
     "title": ""
    }
   },
   "outputs": [],
   "source": [
    "%sql\n",
    "CREATE OR REPLACE TABLE gold.marketing.dim_channel AS\n",
    "SELECT \n",
    "    ROW_NUMBER() OVER (ORDER BY Channel_Used) AS channel_id,  -- Unique ID for each channel\n",
    "    Channel_Used AS channel_name,\n",
    "    Language\n",
    "FROM silver.marketing.marketing_data;"
   ]
  },
  {
   "cell_type": "markdown",
   "metadata": {
    "application/vnd.databricks.v1+cell": {
     "cellMetadata": {
      "byteLimit": 2048000,
      "rowLimit": 10000
     },
     "inputWidgets": {},
     "nuid": "990b4234-1a79-4123-b6b1-29a87f84f60c",
     "showTitle": false,
     "tableResultSettingsMap": {},
     "title": ""
    }
   },
   "source": [
    "## Creation of dim_location"
   ]
  },
  {
   "cell_type": "code",
   "execution_count": 0,
   "metadata": {
    "application/vnd.databricks.v1+cell": {
     "cellMetadata": {
      "byteLimit": 2048000,
      "implicitDf": true,
      "rowLimit": 10000
     },
     "inputWidgets": {},
     "nuid": "505f1769-e6a4-4e23-aec9-dd1c4aea5df6",
     "showTitle": false,
     "tableResultSettingsMap": {},
     "title": ""
    }
   },
   "outputs": [],
   "source": [
    "%sql\n",
    "CREATE OR REPLACE TABLE gold.marketing.dim_location AS\n",
    "SELECT \n",
    "    ROW_NUMBER() OVER (ORDER BY Location) AS location_id,  -- Unique ID for each location\n",
    "    Location AS location_name,\n",
    "    Age_Group\n",
    "FROM silver.marketing.marketing_data;"
   ]
  },
  {
   "cell_type": "markdown",
   "metadata": {
    "application/vnd.databricks.v1+cell": {
     "cellMetadata": {
      "byteLimit": 2048000,
      "rowLimit": 10000
     },
     "inputWidgets": {},
     "nuid": "d6e85775-8e2d-4f85-94ce-1fced7fbbc99",
     "showTitle": false,
     "tableResultSettingsMap": {},
     "title": ""
    }
   },
   "source": [
    "## Creation of the fact_campaign_performance"
   ]
  },
  {
   "cell_type": "code",
   "execution_count": 0,
   "metadata": {
    "application/vnd.databricks.v1+cell": {
     "cellMetadata": {
      "byteLimit": 2048000,
      "implicitDf": true,
      "rowLimit": 10000
     },
     "inputWidgets": {},
     "nuid": "548b428e-c4a0-4500-9eb7-09ccaa5e681d",
     "showTitle": false,
     "tableResultSettingsMap": {},
     "title": ""
    }
   },
   "outputs": [],
   "source": [
    "%sql\n",
    "CREATE OR REPLACE TABLE gold.marketing.fact_campaign_performance AS\n",
    "SELECT \n",
    "    cam.campaign_id,\n",
    "    com.company_id,\n",
    "    ch.channel_id,\n",
    "    loc.location_id,\n",
    "    SUM(s.Clicks) AS Total_Clicks,\n",
    "    SUM(s.Impressions) AS Total_Impressions,\n",
    "    AVG(s.Conversion_Rate) AS Avg_Conversion_Rate,\n",
    "    SUM(s.Acquisition_Cost) AS Total_Acquisition_Cost,\n",
    "    AVG(s.ROI) AS Avg_ROI,\n",
    "    MAX(s.Campaign_Efficiency) AS Campaign_Efficiency  -- Assume best efficiency rating\n",
    "    \n",
    "FROM silver.marketing.marketing_data s\n",
    "JOIN gold.marketing.dim_company com ON s.Company = com.company_name\n",
    "JOIN gold.marketing.dim_campaign cam ON s.Campaign_ID = cam.campaign_key\n",
    "JOIN gold.marketing.dim_channel ch ON s.Channel_Used = ch.channel_name\n",
    "JOIN gold.marketing.dim_location loc ON s.Location = loc.location_name\n",
    "GROUP BY \n",
    "    cam.campaign_id, com.company_id, ch.channel_id, loc.location_id;\n"
   ]
  }
 ],
 "metadata": {
  "application/vnd.databricks.v1+notebook": {
   "dashboards": [],
   "environmentMetadata": {
    "base_environment": "",
    "client": "1"
   },
   "language": "python",
   "notebookMetadata": {
    "mostRecentlyExecutedCommandWithImplicitDF": {
     "commandId": 4207704546458682,
     "dataframes": [
      "_sqldf"
     ]
    },
    "pythonIndentUnit": 2
   },
   "notebookName": "03_GOLD_Data_Aggregation_Modeling",
   "widgets": {}
  },
  "language_info": {
   "name": "python"
  }
 },
 "nbformat": 4,
 "nbformat_minor": 0
}
